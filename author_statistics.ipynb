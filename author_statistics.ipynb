{
 "cells": [
  {
   "cell_type": "code",
   "execution_count": 3,
   "metadata": {},
   "outputs": [],
   "source": [
    "import json\n",
    "from collections import Counter\n",
    "import os\n",
    "import matplotlib.pyplot as plt"
   ]
  },
  {
   "cell_type": "code",
   "execution_count": 4,
   "metadata": {},
   "outputs": [],
   "source": [
    "datasets = 'Theano,youtube-dl,node,angular,react,opencv,CNTK,\\\n",
    "bitcoin,tensorflow,caffe,elasticsearch,guava'.split(',')\n",
    "work_dir = os.environ['WORK_DIR']"
   ]
  },
  {
   "cell_type": "code",
   "execution_count": 12,
   "metadata": {},
   "outputs": [
    {
     "data": {
      "text/plain": [
       "['Theano',\n",
       " 'youtube-dl',\n",
       " 'node',\n",
       " 'angular',\n",
       " 'react',\n",
       " 'opencv',\n",
       " 'CNTK',\n",
       " 'bitcoin',\n",
       " 'tensorflow',\n",
       " 'caffe',\n",
       " 'elasticsearch',\n",
       " 'guava']"
      ]
     },
     "execution_count": 12,
     "metadata": {},
     "output_type": "execute_result"
    }
   ],
   "source": []
  },
  {
   "cell_type": "code",
   "execution_count": 5,
   "metadata": {},
   "outputs": [],
   "source": [
    "results = dict()"
   ]
  },
  {
   "cell_type": "code",
   "execution_count": 43,
   "metadata": {},
   "outputs": [],
   "source": [
    "results2 = dict()"
   ]
  },
  {
   "cell_type": "code",
   "execution_count": 75,
   "metadata": {},
   "outputs": [
    {
     "name": "stdout",
     "output_type": "stream",
     "text": [
      "sha 30185/30185 in dataset 1/12\r"
     ]
    }
   ],
   "source": [
    "for i,dataset in enumerate(['tensorflow']):\n",
    "    dataset_path = os.path.join(work_dir, dataset + \"_commits\",'json')\n",
    "    shas = os.listdir(dataset_path)\n",
    "    counter = Counter()\n",
    "    index_tracker = 0\n",
    "    for j,sha in enumerate(shas):\n",
    "        print('sha {0}/{1} in dataset {2}/{3}\\r'.format(j+1,len(shas),i+1,len(datasets)), end='', flush=True)\n",
    "        with open(os.path.join(dataset_path,sha), 'r') as f:\n",
    "            sha_meta = json.load(f)\n",
    "            if not sha_meta['committer']:\n",
    "                continue\n",
    "            author_id = sha_meta['committer']['id']\n",
    "            counter[author_id]+=1\n",
    "    results[dataset] = dict()\n",
    "    results[dataset]['counter'] = counter\n",
    "    results[dataset]['author_count'] = len(set(list(counter.elements())))"
   ]
  },
  {
   "cell_type": "code",
   "execution_count": 90,
   "metadata": {},
   "outputs": [
    {
     "data": {
      "text/plain": [
       "19514"
      ]
     },
     "execution_count": 90,
     "metadata": {},
     "output_type": "execute_result"
    }
   ],
   "source": [
    "results['tensorflow']['counter'].most_common(1)[0][1]"
   ]
  },
  {
   "cell_type": "code",
   "execution_count": 81,
   "metadata": {},
   "outputs": [
    {
     "name": "stdout",
     "output_type": "stream",
     "text": [
      "In tensorflow\n"
     ]
    }
   ],
   "source": [
    "for dataset in ['tensorflow']:\n",
    "    print('In', dataset)\n",
    "    for i,key in enumerate(list(results[dataset]['counter'].keys())):\n",
    "        results[dataset]['counter'][i] = results[dataset]['counter'][key]\n",
    "        del results[dataset]['counter'][key]"
   ]
  },
  {
   "cell_type": "code",
   "execution_count": 111,
   "metadata": {},
   "outputs": [
    {
     "name": "stdout",
     "output_type": "stream",
     "text": [
      "------------ 0\n",
      "Theano 0%\n",
      "youtube-dl 0%\n",
      "node 0%\n",
      "angular 0%\n",
      "react 0%\n",
      "opencv 0%\n",
      "CNTK 0%\n",
      "bitcoin 0%\n",
      "tensorflow 0%\n",
      "caffe 0%\n",
      "elasticsearch 0%\n",
      "guava 0%\n",
      "------------ 1\n",
      "Theano 42%\n",
      "youtube-dl 33%\n",
      "node 22%\n",
      "angular 15%\n",
      "react 30%\n",
      "opencv 16%\n",
      "CNTK 21%\n",
      "bitcoin 39%\n",
      "tensorflow 65%\n",
      "caffe 31%\n",
      "elasticsearch 20%\n",
      "guava 61%\n",
      "------------ 2\n",
      "Theano 54%\n",
      "youtube-dl 61%\n",
      "node 38%\n",
      "angular 27%\n",
      "react 44%\n",
      "opencv 28%\n",
      "CNTK 28%\n",
      "bitcoin 50%\n",
      "tensorflow 73%\n",
      "caffe 51%\n",
      "elasticsearch 30%\n",
      "guava 81%\n",
      "------------ 3\n",
      "Theano 64%\n",
      "youtube-dl 72%\n",
      "node 46%\n",
      "angular 36%\n",
      "react 51%\n",
      "opencv 38%\n",
      "CNTK 33%\n",
      "bitcoin 60%\n",
      "tensorflow 78%\n",
      "caffe 61%\n",
      "elasticsearch 36%\n",
      "guava 92%\n",
      "------------ 4\n",
      "Theano 68%\n",
      "youtube-dl 81%\n",
      "node 53%\n",
      "angular 45%\n",
      "react 57%\n",
      "opencv 45%\n",
      "CNTK 38%\n",
      "bitcoin 64%\n",
      "tensorflow 81%\n",
      "caffe 69%\n",
      "elasticsearch 41%\n",
      "guava 97%\n",
      "------------ 5\n",
      "Theano 71%\n",
      "youtube-dl 87%\n",
      "node 59%\n",
      "angular 53%\n",
      "react 61%\n",
      "opencv 51%\n",
      "CNTK 42%\n",
      "bitcoin 68%\n",
      "tensorflow 83%\n",
      "caffe 73%\n",
      "elasticsearch 46%\n",
      "guava 99%\n",
      "------------ 6\n",
      "Theano 74%\n",
      "youtube-dl 89%\n",
      "node 64%\n",
      "angular 57%\n",
      "react 66%\n",
      "opencv 57%\n",
      "CNTK 46%\n",
      "bitcoin 71%\n",
      "tensorflow 84%\n",
      "caffe 76%\n",
      "elasticsearch 50%\n",
      "guava 100%\n",
      "------------ 7\n",
      "Theano 76%\n",
      "youtube-dl 91%\n",
      "node 68%\n",
      "angular 60%\n",
      "react 69%\n",
      "opencv 61%\n",
      "CNTK 50%\n",
      "bitcoin 75%\n",
      "tensorflow 86%\n",
      "caffe 80%\n",
      "elasticsearch 54%\n",
      "guava 100%\n",
      "------------ 8\n",
      "Theano 78%\n",
      "youtube-dl 92%\n",
      "node 72%\n",
      "angular 63%\n",
      "react 72%\n",
      "opencv 65%\n",
      "CNTK 53%\n",
      "bitcoin 77%\n",
      "tensorflow 87%\n",
      "caffe 82%\n",
      "elasticsearch 59%\n",
      "guava 100%\n",
      "------------ 9\n",
      "Theano 79%\n",
      "youtube-dl 92%\n",
      "node 75%\n",
      "angular 66%\n",
      "react 73%\n",
      "opencv 69%\n",
      "CNTK 55%\n",
      "bitcoin 80%\n",
      "tensorflow 88%\n",
      "caffe 85%\n",
      "elasticsearch 63%\n",
      "guava 100%\n"
     ]
    }
   ],
   "source": [
    "for threshold in range(10):\n",
    "    print('------------',threshold)\n",
    "    for dataset in datasets:\n",
    "        top = sum([x[1] for x in results[dataset]['counter'].most_common(threshold)])\n",
    "        total = sum([results[dataset]['counter'][x] for x in results[dataset]['counter'].keys()])\n",
    "        print(dataset, str(round(top/total*100)) + \"%\")"
   ]
  },
  {
   "cell_type": "code",
   "execution_count": 74,
   "metadata": {},
   "outputs": [
    {
     "data": {
      "image/png": "[encoded data removed]",
      "text/plain": [
       "<matplotlib.figure.Figure at 0x7fd2f77d34e0>"
      ]
     },
     "metadata": {},
     "output_type": "display_data"
    },
    {
     "data": {
      "image/png": "[encoded data removed]",
      "text/plain": [
       "<matplotlib.figure.Figure at 0x7fd2f80fe208>"
      ]
     },
     "metadata": {},
     "output_type": "display_data"
    },
    {
     "data": {
      "image/png": "[encoded data removed]",
      "text/plain": [
       "<matplotlib.figure.Figure at 0x7fd2fab25278>"
      ]
     },
     "metadata": {},
     "output_type": "display_data"
    },
    {
     "data": {
      "image/png": "[encoded data removed]",
      "text/plain": [
       "<matplotlib.figure.Figure at 0x7fd2f81f6390>"
      ]
     },
     "metadata": {},
     "output_type": "display_data"
    },
    {
     "data": {
      "image/png": "[encoded data removed]",
      "text/plain": [
       "<matplotlib.figure.Figure at 0x7fd2f780a668>"
      ]
     },
     "metadata": {},
     "output_type": "display_data"
    },
    {
     "data": {
      "image/png": "[encoded data removed]",
      "text/plain": [
       "<matplotlib.figure.Figure at 0x7fd2f8204dd8>"
      ]
     },
     "metadata": {},
     "output_type": "display_data"
    },
    {
     "data": {
      "image/png": "[encoded data removed]",
      "text/plain": [
       "<matplotlib.figure.Figure at 0x7fd2f80e39e8>"
      ]
     },
     "metadata": {},
     "output_type": "display_data"
    },
    {
     "data": {
      "image/png": "[encoded data removed]",
      "text/plain": [
       "<matplotlib.figure.Figure at 0x7fd2f8166da0>"
      ]
     },
     "metadata": {},
     "output_type": "display_data"
    },
    {
     "data": {
      "image/png": "[encoded data removed]",
      "text/plain": [
       "<matplotlib.figure.Figure at 0x7fd2f776dcf8>"
      ]
     },
     "metadata": {},
     "output_type": "display_data"
    },
    {
     "data": {
      "image/png": "[encoded data removed]",
      "text/plain": [
       "<matplotlib.figure.Figure at 0x7fd2f779abe0>"
      ]
     },
     "metadata": {},
     "output_type": "display_data"
    },
    {
     "data": {
      "image/png": "[encoded data removed]",
      "text/plain": [
       "<matplotlib.figure.Figure at 0x7fd2f8082cc0>"
      ]
     },
     "metadata": {},
     "output_type": "display_data"
    },
    {
     "data": {
      "image/png": "[encoded data removed]",
      "text/plain": [
       "<matplotlib.figure.Figure at 0x7fd2f819cef0>"
      ]
     },
     "metadata": {},
     "output_type": "display_data"
    }
   ],
   "source": [
    "for dataset in datasets:\n",
    "#     plt.figure(figsize=(10,10))\n",
    "    plt.hist(list(results[dataset]['counter'].elements()), rwidth=0.5)\n",
    "    plt.title(dataset + \" - \" + str(results[dataset]['author_count']) + \" authors\")\n",
    "    plt.show()"
   ]
  },
  {
   "cell_type": "code",
   "execution_count": 49,
   "metadata": {},
   "outputs": [
    {
     "data": {
      "text/plain": [
       "Counter({4502: 3,\n",
       "         5733: 1,\n",
       "         8100: 4,\n",
       "         9321: 1,\n",
       "         15294: 4,\n",
       "         27792: 1,\n",
       "         29542: 1,\n",
       "         31510: 52,\n",
       "         41171: 4,\n",
       "         43829: 6,\n",
       "         46135: 1,\n",
       "         50352: 4,\n",
       "         51236: 1,\n",
       "         59132: 1,\n",
       "         60116: 1,\n",
       "         60206: 387,\n",
       "         61977: 1,\n",
       "         65918: 149,\n",
       "         67496: 51,\n",
       "         68855: 2,\n",
       "         107893: 19,\n",
       "         119799: 1,\n",
       "         121183: 1,\n",
       "         144178: 2,\n",
       "         153965: 103,\n",
       "         171276: 165,\n",
       "         172182: 14,\n",
       "         177628: 43,\n",
       "         178095: 649,\n",
       "         178101: 12,\n",
       "         178249: 2246,\n",
       "         180987: 8132,\n",
       "         185856: 1,\n",
       "         186511: 9,\n",
       "         190799: 1,\n",
       "         192976: 1,\n",
       "         195271: 1,\n",
       "         206920: 83,\n",
       "         215200: 1,\n",
       "         233292: 104,\n",
       "         234307: 11,\n",
       "         241247: 3,\n",
       "         270513: 51,\n",
       "         294960: 1,\n",
       "         297607: 2,\n",
       "         300834: 4,\n",
       "         306380: 90,\n",
       "         322311: 2,\n",
       "         330946: 6,\n",
       "         334496: 1,\n",
       "         335394: 18,\n",
       "         344003: 1,\n",
       "         362532: 2,\n",
       "         387866: 670,\n",
       "         415021: 2,\n",
       "         417568: 9,\n",
       "         465606: 1,\n",
       "         476378: 4,\n",
       "         477771: 1,\n",
       "         478667: 1,\n",
       "         486336: 6,\n",
       "         492141: 1,\n",
       "         495380: 16,\n",
       "         495565: 6,\n",
       "         501890: 5,\n",
       "         506602: 6,\n",
       "         535197: 133,\n",
       "         535537: 1,\n",
       "         542191: 4,\n",
       "         599820: 7,\n",
       "         629706: 88,\n",
       "         641278: 18,\n",
       "         654434: 2,\n",
       "         660004: 45,\n",
       "         705248: 3,\n",
       "         718528: 2,\n",
       "         722587: 6,\n",
       "         728699: 1,\n",
       "         730137: 1,\n",
       "         733626: 3,\n",
       "         735294: 3,\n",
       "         755922: 10,\n",
       "         803603: 5,\n",
       "         810371: 6,\n",
       "         829526: 1,\n",
       "         832811: 643,\n",
       "         862408: 131,\n",
       "         883319: 6,\n",
       "         900254: 3,\n",
       "         904524: 2,\n",
       "         966348: 1,\n",
       "         991891: 3,\n",
       "         993736: 6,\n",
       "         1002504: 2018,\n",
       "         1042973: 18,\n",
       "         1051367: 14,\n",
       "         1063767: 2,\n",
       "         1077147: 34,\n",
       "         1105380: 17,\n",
       "         1120343: 1,\n",
       "         1186968: 5,\n",
       "         1216594: 3,\n",
       "         1226204: 11,\n",
       "         1239529: 2,\n",
       "         1248454: 1,\n",
       "         1261704: 9,\n",
       "         1297788: 1,\n",
       "         1301626: 1,\n",
       "         1320475: 2,\n",
       "         1325536: 2,\n",
       "         1331389: 1,\n",
       "         1377586: 2,\n",
       "         1382658: 5,\n",
       "         1437221: 2,\n",
       "         1448859: 1,\n",
       "         1476029: 5,\n",
       "         1488894: 12,\n",
       "         1521241: 10,\n",
       "         1569186: 1,\n",
       "         1593312: 1,\n",
       "         1595907: 1,\n",
       "         1616684: 17,\n",
       "         1621713: 1,\n",
       "         1658117: 3,\n",
       "         1668093: 6,\n",
       "         1689994: 1,\n",
       "         1706078: 72,\n",
       "         1706199: 10,\n",
       "         1731796: 5,\n",
       "         1741999: 6,\n",
       "         1757177: 6,\n",
       "         1818351: 1,\n",
       "         1916678: 6,\n",
       "         2019410: 2,\n",
       "         2034067: 24,\n",
       "         2081702: 14,\n",
       "         2099418: 29,\n",
       "         2152005: 4,\n",
       "         2206639: 40,\n",
       "         2232328: 1,\n",
       "         2299595: 33,\n",
       "         2300911: 3,\n",
       "         2429140: 1,\n",
       "         2501383: 1,\n",
       "         2506115: 12,\n",
       "         2550887: 1,\n",
       "         2623134: 5,\n",
       "         2645393: 1,\n",
       "         2812111: 1,\n",
       "         2872615: 32,\n",
       "         2874516: 2,\n",
       "         2964386: 73,\n",
       "         2981820: 1,\n",
       "         3142403: 7,\n",
       "         3175743: 2,\n",
       "         3185764: 72,\n",
       "         3186211: 3,\n",
       "         3224808: 1,\n",
       "         3276896: 2,\n",
       "         3352968: 3,\n",
       "         3411613: 1,\n",
       "         3457240: 1,\n",
       "         3467054: 34,\n",
       "         3520613: 9,\n",
       "         3536552: 91,\n",
       "         3654684: 8,\n",
       "         3711175: 2,\n",
       "         3797019: 4,\n",
       "         3814987: 3,\n",
       "         3851611: 1,\n",
       "         3975361: 1,\n",
       "         3988613: 1,\n",
       "         4028979: 4,\n",
       "         4037904: 12,\n",
       "         4084993: 5,\n",
       "         4093707: 2,\n",
       "         4183609: 1,\n",
       "         4312115: 2,\n",
       "         4344566: 1,\n",
       "         4349588: 1,\n",
       "         4402977: 6,\n",
       "         4449506: 35,\n",
       "         4550965: 1,\n",
       "         4626592: 19,\n",
       "         4639261: 42,\n",
       "         4725561: 213,\n",
       "         4749504: 1,\n",
       "         4807859: 63,\n",
       "         4872251: 2,\n",
       "         4992683: 1,\n",
       "         5003560: 1,\n",
       "         5122190: 39,\n",
       "         5140189: 5,\n",
       "         5397898: 59,\n",
       "         5398125: 4,\n",
       "         5595043: 1,\n",
       "         5628798: 6,\n",
       "         5659116: 11,\n",
       "         5725318: 10,\n",
       "         5736469: 2,\n",
       "         5764226: 1,\n",
       "         5941426: 4,\n",
       "         6019916: 28,\n",
       "         6144344: 21,\n",
       "         6151667: 4,\n",
       "         6175880: 1,\n",
       "         6195312: 196,\n",
       "         6475943: 86,\n",
       "         6746980: 11,\n",
       "         6784535: 169,\n",
       "         6854735: 1,\n",
       "         6939554: 42,\n",
       "         7269605: 1,\n",
       "         7395449: 105,\n",
       "         7605807: 2,\n",
       "         7966706: 1,\n",
       "         7996611: 5,\n",
       "         8012271: 24,\n",
       "         8021844: 1,\n",
       "         8022583: 7,\n",
       "         8669162: 1,\n",
       "         8825215: 38,\n",
       "         8920116: 20,\n",
       "         8951290: 47,\n",
       "         9019840: 1,\n",
       "         9106240: 2,\n",
       "         9162726: 4,\n",
       "         9284620: 36,\n",
       "         9470107: 2,\n",
       "         9817962: 1,\n",
       "         9887426: 1,\n",
       "         10359335: 1,\n",
       "         10479248: 56,\n",
       "         10536745: 3,\n",
       "         10982331: 2,\n",
       "         11181105: 2,\n",
       "         11649351: 1,\n",
       "         11705326: 1,\n",
       "         11876887: 24,\n",
       "         11895018: 11,\n",
       "         12720946: 166,\n",
       "         12732633: 28,\n",
       "         12798449: 4,\n",
       "         13697689: 2,\n",
       "         14543665: 1,\n",
       "         14928792: 44,\n",
       "         15105941: 10,\n",
       "         15916735: 5,\n",
       "         16005698: 1,\n",
       "         17443780: 7,\n",
       "         18192425: 109,\n",
       "         19673806: 8,\n",
       "         19864447: 277,\n",
       "         20321907: 4})"
      ]
     },
     "execution_count": 49,
     "metadata": {},
     "output_type": "execute_result"
    }
   ],
   "source": [
    "results['Theano']['counter']"
   ]
  }
 ],
 "metadata": {
  "kernelspec": {
   "display_name": "Python 3",
   "language": "python",
   "name": "python3"
  },
  "language_info": {
   "codemirror_mode": {
    "name": "ipython",
    "version": 3
   },
   "file_extension": ".py",
   "mimetype": "text/x-python",
   "name": "python",
   "nbconvert_exporter": "python",
   "pygments_lexer": "ipython3",
   "version": "3.5.2"
  }
 },
 "nbformat": 4,
 "nbformat_minor": 2
}
