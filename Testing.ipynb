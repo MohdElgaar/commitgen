{
 "cells": [
  {
   "cell_type": "code",
   "execution_count": 1,
   "metadata": {},
   "outputs": [],
   "source": [
    "import pickle\n",
    "import numpy as np\n",
    "import argparse\n",
    "import os\n",
    "import json\n",
    "from os import path, listdir\n",
    "from unidiff import PatchSet, PatchedFile\n",
    "import warnings\n",
    "import collections\n",
    "import random\n",
    "\n",
    "from commitgen.data import RawDataset, extract_commits, parse_commits\n",
    "from commitgen.diff import AddRemExtractor, PerFileExtractor, get_added_lines, get_removed_lines\n",
    "from commitgen.code import CodeChunkTokenizer, CodeLinesTokenizer\n",
    "from commitgen.nlp import TreebankTokenizer\n",
    "from pygments.token import Comment, String, Whitespace, Text"
   ]
  },
  {
   "cell_type": "code",
   "execution_count": 3,
   "metadata": {},
   "outputs": [],
   "source": [
    "work_dir = os.environ['WORK_DIR']\n",
    "commits_path = 'guava_commits'\n",
    "commits_path = os.path.join(work_dir, commits_path)\n",
    "language = 'java'\n",
    "lexer = CodeLinesTokenizer(language=language)\n",
    "tokenizer = TreebankTokenizer()\n",
    "marker = \"NEW_FILE\"\n",
    "code_extractor = AddRemExtractor(marker=marker)\n",
    "parse_filters = []\n",
    "extract_filters = []\n",
    "ignore_list = [Comment, String, Whitespace, Text]"
   ]
  },
  {
   "cell_type": "code",
   "execution_count": 6,
   "metadata": {},
   "outputs": [],
   "source": [
    "tmp_path = os.path.join(commits_path,'json','ff2b5c0897d02d726d803b8103d12ad823c5c4b9.json')"
   ]
  },
  {
   "cell_type": "code",
   "execution_count": 8,
   "metadata": {},
   "outputs": [],
   "source": [
    "x = open(tmp_path,'r')\n",
    "x = json.load(x)"
   ]
  },
  {
   "cell_type": "code",
   "execution_count": 15,
   "metadata": {},
   "outputs": [
    {
     "data": {
      "text/plain": [
       "{'author': {'avatar_url': 'https://avatars.githubusercontent.com/u/1703908?v=3',\n",
       "  'events_url': 'https://api.github.com/users/cpovirk/events{/privacy}',\n",
       "  'followers_url': 'https://api.github.com/users/cpovirk/followers',\n",
       "  'following_url': 'https://api.github.com/users/cpovirk/following{/other_user}',\n",
       "  'gists_url': 'https://api.github.com/users/cpovirk/gists{/gist_id}',\n",
       "  'gravatar_id': '',\n",
       "  'html_url': 'https://github.com/cpovirk',\n",
       "  'id': 1703908,\n",
       "  'login': 'cpovirk',\n",
       "  'organizations_url': 'https://api.github.com/users/cpovirk/orgs',\n",
       "  'received_events_url': 'https://api.github.com/users/cpovirk/received_events',\n",
       "  'repos_url': 'https://api.github.com/users/cpovirk/repos',\n",
       "  'site_admin': False,\n",
       "  'starred_url': 'https://api.github.com/users/cpovirk/starred{/owner}{/repo}',\n",
       "  'subscriptions_url': 'https://api.github.com/users/cpovirk/subscriptions',\n",
       "  'type': 'User',\n",
       "  'url': 'https://api.github.com/users/cpovirk'},\n",
       " 'comments_url': 'https://api.github.com/repos/google/guava/commits/ff2b5c0897d02d726d803b8103d12ad823c5c4b9/comments',\n",
       " 'commit': {'author': {'date': '2012-06-18T14:15:03Z',\n",
       "   'email': 'cpovirk@google.com',\n",
       "   'name': 'Chris Povirk'},\n",
       "  'comment_count': 0,\n",
       "  'committer': {'date': '2012-06-18T14:15:03Z',\n",
       "   'email': 'cpovirk@google.com',\n",
       "   'name': 'Chris Povirk'},\n",
       "  'message': 'Take Iterators.advance out of @Beta.\\n-------------\\nCreated by MOE: http://code.google.com/p/moe-java\\nMOE_MIGRATED_REVID=31078297',\n",
       "  'tree': {'sha': '710cc4bb4e2e1573dad9bcd950468c5f271a70cc',\n",
       "   'url': 'https://api.github.com/repos/google/guava/git/trees/710cc4bb4e2e1573dad9bcd950468c5f271a70cc'},\n",
       "  'url': 'https://api.github.com/repos/google/guava/git/commits/ff2b5c0897d02d726d803b8103d12ad823c5c4b9'},\n",
       " 'committer': {'avatar_url': 'https://avatars.githubusercontent.com/u/1703908?v=3',\n",
       "  'events_url': 'https://api.github.com/users/cpovirk/events{/privacy}',\n",
       "  'followers_url': 'https://api.github.com/users/cpovirk/followers',\n",
       "  'following_url': 'https://api.github.com/users/cpovirk/following{/other_user}',\n",
       "  'gists_url': 'https://api.github.com/users/cpovirk/gists{/gist_id}',\n",
       "  'gravatar_id': '',\n",
       "  'html_url': 'https://github.com/cpovirk',\n",
       "  'id': 1703908,\n",
       "  'login': 'cpovirk',\n",
       "  'organizations_url': 'https://api.github.com/users/cpovirk/orgs',\n",
       "  'received_events_url': 'https://api.github.com/users/cpovirk/received_events',\n",
       "  'repos_url': 'https://api.github.com/users/cpovirk/repos',\n",
       "  'site_admin': False,\n",
       "  'starred_url': 'https://api.github.com/users/cpovirk/starred{/owner}{/repo}',\n",
       "  'subscriptions_url': 'https://api.github.com/users/cpovirk/subscriptions',\n",
       "  'type': 'User',\n",
       "  'url': 'https://api.github.com/users/cpovirk'},\n",
       " 'html_url': 'https://github.com/google/guava/commit/ff2b5c0897d02d726d803b8103d12ad823c5c4b9',\n",
       " 'parents': [{'html_url': 'https://github.com/google/guava/commit/706c81f7021b5cb06419e25671f4ee4216784ca2',\n",
       "   'sha': '706c81f7021b5cb06419e25671f4ee4216784ca2',\n",
       "   'url': 'https://api.github.com/repos/google/guava/commits/706c81f7021b5cb06419e25671f4ee4216784ca2'}],\n",
       " 'sha': 'ff2b5c0897d02d726d803b8103d12ad823c5c4b9',\n",
       " 'url': 'https://api.github.com/repos/google/guava/commits/ff2b5c0897d02d726d803b8103d12ad823c5c4b9'}"
      ]
     },
     "execution_count": 15,
     "metadata": {},
     "output_type": "execute_result"
    }
   ],
   "source": [
    "x"
   ]
  },
  {
   "cell_type": "code",
   "execution_count": 3,
   "metadata": {},
   "outputs": [
    {
     "name": "stdout",
     "output_type": "stream",
     "text": [
      "Extracted 3821 commits\n"
     ]
    }
   ],
   "source": [
    "raw_dataset = RawDataset(commits_path)\n",
    "commits = extract_commits(raw_dataset, code_extractor, filters=extract_filters)\n",
    "print(\"Extracted \" + str(len(commits)) + \" commits\")"
   ]
  },
  {
   "cell_type": "code",
   "execution_count": 4,
   "metadata": {},
   "outputs": [],
   "source": [
    "parsed_commits = parse_commits(commits, tokenizer, lexer,\n",
    "                               filters=parse_filters,\n",
    "                               ignore_types=ignore_list,\n",
    "                               marker=marker)"
   ]
  },
  {
   "cell_type": "code",
   "execution_count": 6,
   "metadata": {
    "scrolled": false
   },
   "outputs": [
    {
     "data": {
      "text/plain": [
       "ParsedCommit(id=0, code='NEW_FILE\\n  \\n  @Override public final V setValue(V value){\\n    throw new UnsupportedOperationException();\\n  }\\n  \\nNEW_FILE', nl_tokens=['Make', 'ImmutableEntry.setValue', '(', ')', 'final.', 'Makes', 'it', 'clearer', 'that', 'ImmutableEntry', 'is', ',', 'in', 'fact', ',', 'immutable.', 'Revision', 'created', 'by', 'MOE', 'tool', 'push_codebase.', 'MOE_MIGRATION=180040', 'git-svn-id', ':', 'https', ':', '//guava-libraries.googlecode.com/svn/trunk', '@', '91', '8138a162-5c33-11de-8abc-d1c337b90d21'], code_tokens=['NEW_FILE', 'NEW_FILE', '@Override', 'public', 'final', 'V', 'setValue', '(', 'V', 'value', ')', '{', 'throw', 'new', 'UnsupportedOperationException', '(', ')', ';', '}'])"
      ]
     },
     "execution_count": 6,
     "metadata": {},
     "output_type": "execute_result"
    }
   ],
   "source": [
    "parsed_commits[0]"
   ]
  }
 ],
 "metadata": {
  "kernelspec": {
   "display_name": "Python 3",
   "language": "python",
   "name": "python3"
  },
  "language_info": {
   "codemirror_mode": {
    "name": "ipython",
    "version": 3
   },
   "file_extension": ".py",
   "mimetype": "text/x-python",
   "name": "python",
   "nbconvert_exporter": "python",
   "pygments_lexer": "ipython3",
   "version": "3.5.2"
  }
 },
 "nbformat": 4,
 "nbformat_minor": 2
}
